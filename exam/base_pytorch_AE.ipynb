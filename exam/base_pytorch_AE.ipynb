{
  "nbformat": 4,
  "nbformat_minor": 0,
  "metadata": {
    "accelerator": "GPU",
    "colab": {
      "name": "base_pytorch_AE.ipynb",
      "provenance": [],
      "include_colab_link": true
    },
    "kernelspec": {
      "display_name": "Python 3",
      "language": "python",
      "name": "python3"
    },
    "language_info": {
      "codemirror_mode": {
        "name": "ipython",
        "version": 3
      },
      "file_extension": ".py",
      "mimetype": "text/x-python",
      "name": "python",
      "nbconvert_exporter": "python",
      "pygments_lexer": "ipython3",
      "version": "3.8.2"
    }
  },
  "cells": [
    {
      "cell_type": "markdown",
      "metadata": {
        "id": "view-in-github",
        "colab_type": "text"
      },
      "source": [
        "<a href=\"https://colab.research.google.com/github/matteoalberti/Lectures_AdvCV_Experis2020/blob/main/exam/base_pytorch_AE.ipynb\" target=\"_parent\"><img src=\"https://colab.research.google.com/assets/colab-badge.svg\" alt=\"Open In Colab\"/></a>"
      ]
    },
    {
      "cell_type": "markdown",
      "metadata": {
        "id": "EmclBDzKJepg"
      },
      "source": [
        "# Simple autoencoder\n",
        "\n",
        "This is a very simple autoencoder based on a MLP architecture."
      ]
    },
    {
      "cell_type": "code",
      "metadata": {
        "id": "AdlZFNnsW504"
      },
      "source": [
        "import os\n",
        "import sys\n",
        "\n",
        "import torch\n",
        "import torchvision\n",
        "from torch import nn\n",
        "from torch.autograd import Variable\n",
        "from torch.utils.data import DataLoader\n",
        "from torchvision import transforms\n",
        "from torchvision import datasets, transforms\n",
        "from torchsummary import summary\n",
        "from torchvision.utils import save_image\n",
        "\n",
        "import numpy as np\n",
        "import matplotlib.pyplot as plt"
      ],
      "execution_count": null,
      "outputs": []
    },
    {
      "cell_type": "code",
      "metadata": {
        "id": "PQWrCZiYJkg0"
      },
      "source": [
        "! mkdir simple_autoencoder"
      ],
      "execution_count": null,
      "outputs": []
    },
    {
      "cell_type": "code",
      "metadata": {
        "id": "qh6fNL42W508"
      },
      "source": [
        "def to_img(x):\n",
        "    x = 0.5 * (x + 1)\n",
        "    x = x.clamp(0, 1)\n",
        "    x = x.view(x.size(0), 1, 28, 28)\n",
        "    return x"
      ],
      "execution_count": null,
      "outputs": []
    },
    {
      "cell_type": "code",
      "metadata": {
        "id": "alPs60C9W50-"
      },
      "source": [
        "input_size= (1,784,)\n",
        "num_epochs = 10\n",
        "batch_size = 128\n",
        "learning_rate = 1e-3\n",
        "\n",
        "dataloader = torch.utils.data.DataLoader(\n",
        "        datasets.MNIST('../data', train=True, download=True,\n",
        "                       transform=transforms.Compose([\n",
        "                           transforms.ToTensor(),\n",
        "                           transforms.Normalize((0.1307,), (0.3081,))\n",
        "                       ])),\n",
        "        batch_size=batch_size, shuffle=True)"
      ],
      "execution_count": null,
      "outputs": []
    },
    {
      "cell_type": "code",
      "metadata": {
        "id": "oHd1IXfcW51C"
      },
      "source": [
        "class autoencoder(nn.Module):\n",
        "    def __init__(self):\n",
        "        super(autoencoder, self).__init__()\n",
        "        self.encoder = nn.Sequential(\n",
        "            nn.Linear(28 * 28, 128),\n",
        "            nn.ReLU(True),\n",
        "            nn.Linear(128, 64),\n",
        "            nn.ReLU(True), \n",
        "            nn.Linear(64, 12), \n",
        "            nn.ReLU(True), \n",
        "            nn.Linear(12, 3))\n",
        "        self.decoder = nn.Sequential(\n",
        "            nn.Linear(3, 12),\n",
        "            nn.ReLU(True),\n",
        "            nn.Linear(12, 64),\n",
        "            nn.ReLU(True),\n",
        "            nn.Linear(64, 128),\n",
        "            nn.ReLU(True), \n",
        "            nn.Linear(128, 28 * 28), \n",
        "            nn.Tanh())\n",
        "\n",
        "    def forward(self, x):\n",
        "        x = self.encoder(x)\n",
        "        x = self.decoder(x)\n",
        "        return x "
      ],
      "execution_count": null,
      "outputs": []
    },
    {
      "cell_type": "code",
      "metadata": {
        "id": "RhmTnFlaW51E"
      },
      "source": [
        "model = autoencoder()\n",
        "criterion = nn.MSELoss()\n",
        "optimizer = torch.optim.Adam(model.parameters(), lr=learning_rate, weight_decay=1e-5)"
      ],
      "execution_count": null,
      "outputs": []
    },
    {
      "cell_type": "code",
      "metadata": {
        "id": "NeHK9PsNJeqD",
        "outputId": "33e86198-0def-49a2-c689-c0046945014d"
      },
      "source": [
        "summary(model, input_size)"
      ],
      "execution_count": null,
      "outputs": [
        {
          "output_type": "stream",
          "text": [
            "----------------------------------------------------------------\n",
            "        Layer (type)               Output Shape         Param #\n",
            "================================================================\n",
            "            Linear-1               [-1, 1, 128]         100,480\n",
            "              ReLU-2               [-1, 1, 128]               0\n",
            "            Linear-3                [-1, 1, 64]           8,256\n",
            "              ReLU-4                [-1, 1, 64]               0\n",
            "            Linear-5                [-1, 1, 12]             780\n",
            "              ReLU-6                [-1, 1, 12]               0\n",
            "            Linear-7                 [-1, 1, 3]              39\n",
            "            Linear-8                [-1, 1, 12]              48\n",
            "              ReLU-9                [-1, 1, 12]               0\n",
            "           Linear-10                [-1, 1, 64]             832\n",
            "             ReLU-11                [-1, 1, 64]               0\n",
            "           Linear-12               [-1, 1, 128]           8,320\n",
            "             ReLU-13               [-1, 1, 128]               0\n",
            "           Linear-14               [-1, 1, 784]         101,136\n",
            "             Tanh-15               [-1, 1, 784]               0\n",
            "================================================================\n",
            "Total params: 219,891\n",
            "Trainable params: 219,891\n",
            "Non-trainable params: 0\n",
            "----------------------------------------------------------------\n",
            "Input size (MB): 0.00\n",
            "Forward/backward pass size (MB): 0.02\n",
            "Params size (MB): 0.84\n",
            "Estimated Total Size (MB): 0.86\n",
            "----------------------------------------------------------------\n"
          ],
          "name": "stdout"
        }
      ]
    },
    {
      "cell_type": "code",
      "metadata": {
        "id": "EZfzRbBXW51H",
        "outputId": "fe4226fe-e67d-43ad-fb3f-2531493067fa",
        "colab": {
          "base_uri": "https://localhost:8080/",
          "height": 185
        }
      },
      "source": [
        "Loss = []\n",
        "for epoch in range(num_epochs):\n",
        "    for data in dataloader:\n",
        "        img, _ = data\n",
        "        img = img.view(img.size(0), -1)\n",
        "        img = Variable(img)\n",
        "        \n",
        "        output = model(img)\n",
        "        loss = criterion(output, img)\n",
        "        \n",
        "        optimizer.zero_grad()\n",
        "        loss.backward()\n",
        "        optimizer.step()\n",
        "    \n",
        "    Loss.append(loss.item())\n",
        "    print('epoch [{}/{}], loss:{:.4f}'\n",
        "          .format(epoch + 1, num_epochs, loss.item()))\n",
        "    if epoch % 10 == 0:\n",
        "        pic = to_img(output.data)\n",
        "        save_image(pic, './simple_autoencoder/image_{}.png'.format(epoch))\n",
        "\n",
        "torch.save(model.state_dict(), './simple_autoencoder/simple_autoencoder.pt')"
      ],
      "execution_count": null,
      "outputs": [
        {
          "output_type": "stream",
          "text": [
            "epoch [1/10], loss:0.5907\n",
            "epoch [2/10], loss:0.5692\n",
            "epoch [3/10], loss:0.5556\n",
            "epoch [4/10], loss:0.5363\n",
            "epoch [5/10], loss:0.4873\n",
            "epoch [6/10], loss:0.5304\n",
            "epoch [7/10], loss:0.5271\n",
            "epoch [8/10], loss:0.5098\n",
            "epoch [9/10], loss:0.5005\n",
            "epoch [10/10], loss:0.5063\n"
          ],
          "name": "stdout"
        }
      ]
    },
    {
      "cell_type": "code",
      "metadata": {
        "id": "np-awxK_JeqU",
        "outputId": "9ec7f667-c111-469b-efb1-8233397f359b"
      },
      "source": [
        "model.load_state_dict(torch.load('./simple_autoencoder/simple_autoencoder.pt'))\n",
        "model.eval()"
      ],
      "execution_count": null,
      "outputs": [
        {
          "output_type": "execute_result",
          "data": {
            "text/plain": [
              "autoencoder(\n",
              "  (encoder): Sequential(\n",
              "    (0): Linear(in_features=784, out_features=128, bias=True)\n",
              "    (1): ReLU(inplace=True)\n",
              "    (2): Linear(in_features=128, out_features=64, bias=True)\n",
              "    (3): ReLU(inplace=True)\n",
              "    (4): Linear(in_features=64, out_features=12, bias=True)\n",
              "    (5): ReLU(inplace=True)\n",
              "    (6): Linear(in_features=12, out_features=3, bias=True)\n",
              "  )\n",
              "  (decoder): Sequential(\n",
              "    (0): Linear(in_features=3, out_features=12, bias=True)\n",
              "    (1): ReLU(inplace=True)\n",
              "    (2): Linear(in_features=12, out_features=64, bias=True)\n",
              "    (3): ReLU(inplace=True)\n",
              "    (4): Linear(in_features=64, out_features=128, bias=True)\n",
              "    (5): ReLU(inplace=True)\n",
              "    (6): Linear(in_features=128, out_features=784, bias=True)\n",
              "    (7): Tanh()\n",
              "  )\n",
              ")"
            ]
          },
          "metadata": {
            "tags": []
          },
          "execution_count": 8
        }
      ]
    },
    {
      "cell_type": "code",
      "metadata": {
        "id": "-lJEqhapJeqY"
      },
      "source": [
        "x = torch.randn(1,784)\n",
        "plt.imshow(np.reshape(x,(28,28)))\n",
        "plt.show()"
      ],
      "execution_count": null,
      "outputs": []
    },
    {
      "cell_type": "code",
      "metadata": {
        "id": "0oKuKHk3Jeqc"
      },
      "source": [
        "output = model(x).detach().numpy()"
      ],
      "execution_count": null,
      "outputs": []
    },
    {
      "cell_type": "markdown",
      "metadata": {
        "id": "RHay79fnJeqf"
      },
      "source": [
        "# Question\n",
        "\n",
        "- Guess what the output will look like.\n",
        "- Can you imagine a theoretical explanation?\n",
        "- Can you imagine how to test for it?"
      ]
    },
    {
      "cell_type": "code",
      "metadata": {
        "id": "bEDBbRtxJeqg"
      },
      "source": [
        "#plt.imshow(np.reshape(output,(28,28)))\n",
        "#plt.show()"
      ],
      "execution_count": null,
      "outputs": []
    },
    {
      "cell_type": "code",
      "metadata": {
        "id": "CQwwYWzYJeqj"
      },
      "source": [
        "from matplotlib import pyplot as plt\n",
        "plt.plot(Loss,'-bo')\n",
        "plt.show()"
      ],
      "execution_count": null,
      "outputs": []
    },
    {
      "cell_type": "markdown",
      "metadata": {
        "id": "qsL4BlO5Jeqo"
      },
      "source": [
        "# Exercise\n",
        "\n",
        "Discussion in class of the points first.\n",
        "\n",
        "- Why the loss in this model does not change much? Inspect the samples saved in './simple_autoencoder', they are terrible.\n",
        "- How can this model be improved? Experiment on this a little bit. (Maybe you want to change the architecure a little bit?)\n",
        "- Extract the code (a,b) of two images of your choice\n",
        "- Decode a generic code given as input, in particular the codes a,b. Visualize the results.\n",
        "- Transverse the *latent space* of the bottleneck layer from a to b.\n",
        "  More precisely define a sequence of codes\n",
        "  \n",
        "$$\n",
        "c = \\lambda b + (1-\\lambda)a, \\;\\;\\; \\lambda = [0,\\dots,1]\n",
        "$$\n",
        "\n",
        "  and see for each one the decoded images (do it in N steps, where N is your choice)."
      ]
    }
  ]
}