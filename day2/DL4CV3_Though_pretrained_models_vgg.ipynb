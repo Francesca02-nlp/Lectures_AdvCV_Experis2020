{
  "nbformat": 4,
  "nbformat_minor": 0,
  "metadata": {
    "kernelspec": {
      "display_name": "Python 3",
      "language": "python",
      "name": "python3"
    },
    "language_info": {
      "codemirror_mode": {
        "name": "ipython",
        "version": 3
      },
      "file_extension": ".py",
      "mimetype": "text/x-python",
      "name": "python",
      "nbconvert_exporter": "python",
      "pygments_lexer": "ipython3",
      "version": "3.6.6"
    },
    "colab": {
      "name": "DL4CV3_Though_pretrained_models_vgg.ipynb",
      "provenance": [],
      "collapsed_sections": [],
      "include_colab_link": true
    },
    "accelerator": "GPU"
  },
  "cells": [
    {
      "cell_type": "markdown",
      "metadata": {
        "id": "view-in-github",
        "colab_type": "text"
      },
      "source": [
        "<a href=\"https://colab.research.google.com/github/matteoalberti/Lectures_AdvCV_Experis2020/blob/main/day2/DL4CV3_Though_pretrained_models_vgg.ipynb\" target=\"_parent\"><img src=\"https://colab.research.google.com/assets/colab-badge.svg\" alt=\"Open In Colab\"/></a>"
      ]
    },
    {
      "cell_type": "markdown",
      "metadata": {
        "id": "s7F6kkdQzxLc"
      },
      "source": [
        "![](https://github.com/matteoalberti/Lectures_introCV_Experis2020/blob/main/images/intro.jpg?raw=1)"
      ]
    },
    {
      "cell_type": "markdown",
      "metadata": {
        "id": "xYQa8A5JzxLd"
      },
      "source": [
        "# **Welcome!**\n",
        "\n",
        "# Introduction to Machine Learning for Computer Vision\n",
        "\n",
        "#### Thought Pre-Trained Models!\n",
        "\n",
        "\n",
        "## **Lecturer :** Matteo Alberti\n",
        "\n",
        "\n",
        "*Contacts :* https://www.linkedin.com/in/matteo-alberti-170493/\n"
      ]
    },
    {
      "cell_type": "markdown",
      "metadata": {
        "id": "aV2--AfwzxLe"
      },
      "source": [
        "# Summary\n",
        "\n",
        "\n",
        "- <font color=E35F2A>**Transfer Learning & Pre-Trained Models** </font>\n"
      ]
    },
    {
      "cell_type": "markdown",
      "metadata": {
        "id": "noVsjfrIzxLg"
      },
      "source": [
        "#### Load Packages"
      ]
    },
    {
      "cell_type": "code",
      "metadata": {
        "id": "VUciZBIxzxLh",
        "colab": {
          "base_uri": "https://localhost:8080/",
          "height": 54
        },
        "outputId": "28945884-baeb-43dd-8092-3b2e6e14dca5"
      },
      "source": [
        "#Sklearn ML\n",
        "from sklearn.model_selection import train_test_split\n",
        "from skimage.transform import resize\n",
        "import numpy as np\n",
        "import platform\n",
        "import keras\n",
        "\n",
        "#TF Imports\n",
        "import tensorflow as tf\n",
        "import sklearn.model_selection as model_selection\n",
        "import datetime\n",
        "import pandas as pd\n",
        "\n",
        "\n",
        "#Visualization\n",
        "import matplotlib.pyplot as plt\n",
        "plt.style.use('seaborn-white')\n",
        "\n",
        "print('TF Version : ',tf.__version__)\n",
        "print('Python Version : ', platform.python_version())"
      ],
      "execution_count": null,
      "outputs": [
        {
          "output_type": "stream",
          "text": [
            "TF Version :  2.3.0\n",
            "Python Version :  3.6.9\n"
          ],
          "name": "stdout"
        }
      ]
    },
    {
      "cell_type": "markdown",
      "metadata": {
        "id": "SuCfmsE8D-83"
      },
      "source": [
        "## Load Cifar100 this time!\n",
        "\n",
        "This dataset is just like the CIFAR-10, except it has 100 classes containing 600 images each. There are 500 training images and 100 testing images per class. The 100 classes in the CIFAR-100 are grouped into 20 superclasses. Each image comes with a \"fine\" label (the class to which it belongs) and a \"coarse\" label (the superclass to which it belongs).\n",
        "\n",
        "Divided in **Supercalsses and Classes**"
      ]
    },
    {
      "cell_type": "code",
      "metadata": {
        "id": "VTkS4YR3zxLn",
        "colab": {
          "base_uri": "https://localhost:8080/",
          "height": 72
        },
        "outputId": "ef579509-9f26-40b6-c02d-cdc1da20be53"
      },
      "source": [
        "(x_train, y_train), (x_test, y_test) = tf.keras.datasets.cifar100.load_data()\n",
        "\n",
        "print(x_train.shape, y_train.shape, x_test.shape, y_test.shape)\n",
        "\n",
        "#The range for each individual colour is 0-255\n",
        "x_train = x_train.astype('float32')/255 \n",
        "x_test = x_test.astype('float32')/255"
      ],
      "execution_count": null,
      "outputs": [
        {
          "output_type": "stream",
          "text": [
            "Downloading data from https://www.cs.toronto.edu/~kriz/cifar-100-python.tar.gz\n",
            "169009152/169001437 [==============================] - 4s 0us/step\n",
            "(50000, 32, 32, 3) (50000, 1) (10000, 32, 32, 3) (10000, 1)\n"
          ],
          "name": "stdout"
        }
      ]
    },
    {
      "cell_type": "code",
      "metadata": {
        "id": "7uDi4uqx50r3",
        "colab": {
          "base_uri": "https://localhost:8080/",
          "height": 126
        },
        "outputId": "3fefede3-ed4b-4054-f613-f0fb6dde16b1"
      },
      "source": [
        "np.unique(y_train)"
      ],
      "execution_count": null,
      "outputs": [
        {
          "output_type": "execute_result",
          "data": {
            "text/plain": [
              "array([ 0,  1,  2,  3,  4,  5,  6,  7,  8,  9, 10, 11, 12, 13, 14, 15, 16,\n",
              "       17, 18, 19, 20, 21, 22, 23, 24, 25, 26, 27, 28, 29, 30, 31, 32, 33,\n",
              "       34, 35, 36, 37, 38, 39, 40, 41, 42, 43, 44, 45, 46, 47, 48, 49, 50,\n",
              "       51, 52, 53, 54, 55, 56, 57, 58, 59, 60, 61, 62, 63, 64, 65, 66, 67,\n",
              "       68, 69, 70, 71, 72, 73, 74, 75, 76, 77, 78, 79, 80, 81, 82, 83, 84,\n",
              "       85, 86, 87, 88, 89, 90, 91, 92, 93, 94, 95, 96, 97, 98, 99])"
            ]
          },
          "metadata": {
            "tags": []
          },
          "execution_count": 40
        }
      ]
    },
    {
      "cell_type": "code",
      "metadata": {
        "id": "6zslIkgRc8Ij",
        "colab": {
          "base_uri": "https://localhost:8080/",
          "height": 35
        },
        "outputId": "e1cbc1e5-61ec-4628-90a7-6afc7d1ac2db"
      },
      "source": [
        "# check size\n",
        "x_train.size // 1024 // 1024"
      ],
      "execution_count": null,
      "outputs": [
        {
          "output_type": "execute_result",
          "data": {
            "text/plain": [
              "146"
            ]
          },
          "metadata": {
            "tags": []
          },
          "execution_count": 52
        }
      ]
    },
    {
      "cell_type": "code",
      "metadata": {
        "id": "39TuP3tgfxWK",
        "colab": {
          "base_uri": "https://localhost:8080/",
          "height": 35
        },
        "outputId": "5ac2c39c-7f0d-4735-84b0-f70a49ae1899"
      },
      "source": [
        "len(x_train)"
      ],
      "execution_count": null,
      "outputs": [
        {
          "output_type": "execute_result",
          "data": {
            "text/plain": [
              "50000"
            ]
          },
          "metadata": {
            "tags": []
          },
          "execution_count": 57
        }
      ]
    },
    {
      "cell_type": "markdown",
      "metadata": {
        "id": "w4ihmUI0zxLv"
      },
      "source": [
        "##### Visulize Data & Stats"
      ]
    },
    {
      "cell_type": "markdown",
      "metadata": {
        "id": "IFPb86YhzxL9"
      },
      "source": [
        "### Define HyperParameters & CNN Architecture\n",
        "   "
      ]
    },
    {
      "cell_type": "code",
      "metadata": {
        "id": "UBvAXYY5zxL-",
        "colab": {
          "base_uri": "https://localhost:8080/",
          "height": 35
        },
        "outputId": "7751f3d6-9b00-4b78-cb75-f4eb1eb85d10"
      },
      "source": [
        "#Parameters\n",
        "import sys;import argparse; sys.argv=['']; del sys\n",
        "parser = argparse.ArgumentParser(description=\"CNN\")\n",
        "parser.add_argument('--epochs', default=20, type=int)\n",
        "parser.add_argument('--iter', default=100, type=int)\n",
        "parser.add_argument('--batch_size', default=128, type=int)\n",
        "parser.add_argument('--lr', default=0.001, type=float)\n",
        "\n",
        "#For VGG\n",
        "parser.add_argument('--weight_decay', default=0.0001, type=float)\n",
        "parser.add_argument('--dropout', default=0.5, type=float)\n",
        "\n",
        "\n",
        "parser.add_argument('--height', default=32, type=int)\n",
        "parser.add_argument('--width', default=32, type=int)\n",
        "parser.add_argument('--channel', default=3, type=int)\n",
        "parser.add_argument('--classes', default=10, type=int)\n",
        "\n",
        "#FOR RESNET\n",
        "parser.add_argument('--stack_n', type=int, default=25, metavar='NUMBER',\n",
        "                help='stack number n, total layers = 6 * n + 2 (default: 5)')\n",
        "\n",
        "parser.add_argument('--train', default=False)\n",
        "args = parser.parse_args()\n",
        "\n",
        "layers_res = 6 * args.stack_n + 2\n",
        "parser.add_argument('--layers_res', default=layers_res)\n",
        "\n",
        "#Extras\n",
        "parser.add_argument('--early_stop', default=3)\n",
        "\n",
        "\n",
        "args = parser.parse_args()\n",
        "\n",
        "print(args)"
      ],
      "execution_count": null,
      "outputs": [
        {
          "output_type": "stream",
          "text": [
            "Namespace(batch_size=128, channel=3, classes=10, dropout=0.5, early_stop=3, epochs=20, height=32, iter=100, layers_res=152, lr=0.001, stack_n=25, train=False, weight_decay=0.0001, width=32)\n"
          ],
          "name": "stdout"
        }
      ]
    },
    {
      "cell_type": "markdown",
      "metadata": {
        "id": "u19NQ0XkzxMB"
      },
      "source": [
        "# Thought deep pre-trained models - [Part 1]"
      ]
    },
    {
      "cell_type": "markdown",
      "metadata": {
        "id": "PyEFgiztzxMC"
      },
      "source": [
        "### Visual Geometry Group Network \n",
        "\n",
        "<img src=\"https://www.researchgate.net/profile/Max_Ferguson/publication/322512435/figure/fig3/AS:697390994567179@1543282378794/Fig-A1-The-standard-VGG-16-network-architecture-as-proposed-in-32-Note-that-only.png\" alt=\"Drawing\" style=\"width: 500px;\"/>"
      ]
    },
    {
      "cell_type": "markdown",
      "metadata": {
        "id": "hO3KvR9AzxMD"
      },
      "source": [
        "### Start with loading weights\n",
        "\n",
        "- Which weights can I load?\n",
        "- What have I to modify?"
      ]
    },
    {
      "cell_type": "code",
      "metadata": {
        "id": "0IbLH6byzxMD",
        "colab": {
          "base_uri": "https://localhost:8080/",
          "height": 924
        },
        "outputId": "0834901b-a6a3-4885-b646-8738ca881d50"
      },
      "source": [
        "vgg19 = tf.keras.applications.VGG19(\n",
        "    include_top=False, weights='imagenet', input_tensor=None, input_shape=(32,32,3),\n",
        "    pooling=None, classes=100, classifier_activation='softmax')\n",
        "\n",
        "#Compile architecture\n",
        "vgg19.compile(optimizer='adam',\n",
        "              loss='sparse_categorical_crossentropy',\n",
        "              metrics=['accuracy'])\n",
        "\n",
        "vgg19.summary()"
      ],
      "execution_count": null,
      "outputs": [
        {
          "output_type": "stream",
          "text": [
            "Downloading data from https://storage.googleapis.com/tensorflow/keras-applications/vgg19/vgg19_weights_tf_dim_ordering_tf_kernels_notop.h5\n",
            "80142336/80134624 [==============================] - 3s 0us/step\n",
            "Model: \"vgg19\"\n",
            "_________________________________________________________________\n",
            "Layer (type)                 Output Shape              Param #   \n",
            "=================================================================\n",
            "input_2 (InputLayer)         [(None, 32, 32, 3)]       0         \n",
            "_________________________________________________________________\n",
            "block1_conv1 (Conv2D)        (None, 32, 32, 64)        1792      \n",
            "_________________________________________________________________\n",
            "block1_conv2 (Conv2D)        (None, 32, 32, 64)        36928     \n",
            "_________________________________________________________________\n",
            "block1_pool (MaxPooling2D)   (None, 16, 16, 64)        0         \n",
            "_________________________________________________________________\n",
            "block2_conv1 (Conv2D)        (None, 16, 16, 128)       73856     \n",
            "_________________________________________________________________\n",
            "block2_conv2 (Conv2D)        (None, 16, 16, 128)       147584    \n",
            "_________________________________________________________________\n",
            "block2_pool (MaxPooling2D)   (None, 8, 8, 128)         0         \n",
            "_________________________________________________________________\n",
            "block3_conv1 (Conv2D)        (None, 8, 8, 256)         295168    \n",
            "_________________________________________________________________\n",
            "block3_conv2 (Conv2D)        (None, 8, 8, 256)         590080    \n",
            "_________________________________________________________________\n",
            "block3_conv3 (Conv2D)        (None, 8, 8, 256)         590080    \n",
            "_________________________________________________________________\n",
            "block3_conv4 (Conv2D)        (None, 8, 8, 256)         590080    \n",
            "_________________________________________________________________\n",
            "block3_pool (MaxPooling2D)   (None, 4, 4, 256)         0         \n",
            "_________________________________________________________________\n",
            "block4_conv1 (Conv2D)        (None, 4, 4, 512)         1180160   \n",
            "_________________________________________________________________\n",
            "block4_conv2 (Conv2D)        (None, 4, 4, 512)         2359808   \n",
            "_________________________________________________________________\n",
            "block4_conv3 (Conv2D)        (None, 4, 4, 512)         2359808   \n",
            "_________________________________________________________________\n",
            "block4_conv4 (Conv2D)        (None, 4, 4, 512)         2359808   \n",
            "_________________________________________________________________\n",
            "block4_pool (MaxPooling2D)   (None, 2, 2, 512)         0         \n",
            "_________________________________________________________________\n",
            "block5_conv1 (Conv2D)        (None, 2, 2, 512)         2359808   \n",
            "_________________________________________________________________\n",
            "block5_conv2 (Conv2D)        (None, 2, 2, 512)         2359808   \n",
            "_________________________________________________________________\n",
            "block5_conv3 (Conv2D)        (None, 2, 2, 512)         2359808   \n",
            "_________________________________________________________________\n",
            "block5_conv4 (Conv2D)        (None, 2, 2, 512)         2359808   \n",
            "_________________________________________________________________\n",
            "block5_pool (MaxPooling2D)   (None, 1, 1, 512)         0         \n",
            "=================================================================\n",
            "Total params: 20,024,384\n",
            "Trainable params: 20,024,384\n",
            "Non-trainable params: 0\n",
            "_________________________________________________________________\n"
          ],
          "name": "stdout"
        }
      ]
    },
    {
      "cell_type": "markdown",
      "metadata": {
        "id": "CDKj17PEAN6X"
      },
      "source": [
        "### Evaluate how good is our model without training!\n"
      ]
    },
    {
      "cell_type": "code",
      "metadata": {
        "id": "i2q8myc_9YZd",
        "colab": {
          "base_uri": "https://localhost:8080/",
          "height": 54
        },
        "outputId": "c23e959e-09dc-4d0b-b7f9-e4618ea24569"
      },
      "source": [
        "score = vgg19.evaluate(x_test, y_test, verbose=0)\n",
        "print(score[0], ' : loss')\n",
        "print(score[1]*100, '% : acc')\n",
        "\n",
        "# Why?? What happened???"
      ],
      "execution_count": null,
      "outputs": [
        {
          "output_type": "stream",
          "text": [
            "16.92310905456543  : loss\n",
            "0.0 % : acc\n"
          ],
          "name": "stdout"
        }
      ]
    },
    {
      "cell_type": "markdown",
      "metadata": {
        "id": "mxvysdU3tafe"
      },
      "source": [
        "## Let's go step-by-step"
      ]
    },
    {
      "cell_type": "markdown",
      "metadata": {
        "id": "qSuxA1HGte8w"
      },
      "source": [
        "### Define layers to be added"
      ]
    },
    {
      "cell_type": "code",
      "metadata": {
        "id": "sfLrMhHKfGxH"
      },
      "source": [
        "import tensorflow as tf"
      ],
      "execution_count": null,
      "outputs": []
    },
    {
      "cell_type": "code",
      "metadata": {
        "id": "_yco_VAbexd2"
      },
      "source": [
        "flatten = tf.keras.layers.Flatten()\n",
        "dense1 = tf.keras.layers.Dense(200, activation='relu')\n",
        "dense2 = tf.keras.layers.Dense(100, activation='softmax')"
      ],
      "execution_count": null,
      "outputs": []
    },
    {
      "cell_type": "markdown",
      "metadata": {
        "id": "y1VVtV9duCh2"
      },
      "source": [
        "### Re-define our model"
      ]
    },
    {
      "cell_type": "code",
      "metadata": {
        "id": "L_BdHfYauCNd"
      },
      "source": [
        "inputs = tf.keras.Input(shape=(32,32, 3))\n",
        "x = vgg19(inputs, training=False)\n",
        "x = tf.keras.layers.Flatten()(x)\n",
        "x = dense1(x)\n",
        "outputs = dense2(x)\n",
        "vgg19_DP = tf.keras.Model(inputs, outputs)"
      ],
      "execution_count": null,
      "outputs": []
    },
    {
      "cell_type": "code",
      "metadata": {
        "id": "KBiFD-51hQ79",
        "colab": {
          "base_uri": "https://localhost:8080/",
          "height": 319
        },
        "outputId": "c4dcc50f-a5cb-40b6-e562-3354009f2770"
      },
      "source": [
        "vgg19_DP.summary()"
      ],
      "execution_count": null,
      "outputs": [
        {
          "output_type": "stream",
          "text": [
            "Model: \"functional_1\"\n",
            "_________________________________________________________________\n",
            "Layer (type)                 Output Shape              Param #   \n",
            "=================================================================\n",
            "input_7 (InputLayer)         [(None, 32, 32, 3)]       0         \n",
            "_________________________________________________________________\n",
            "vgg19 (Functional)           (None, 1, 1, 512)         20024384  \n",
            "_________________________________________________________________\n",
            "flatten_3 (Flatten)          (None, 512)               0         \n",
            "_________________________________________________________________\n",
            "dense_2 (Dense)              (None, 200)               102600    \n",
            "_________________________________________________________________\n",
            "dense_3 (Dense)              (None, 100)               20100     \n",
            "=================================================================\n",
            "Total params: 20,147,084\n",
            "Trainable params: 20,147,084\n",
            "Non-trainable params: 0\n",
            "_________________________________________________________________\n"
          ],
          "name": "stdout"
        }
      ]
    },
    {
      "cell_type": "markdown",
      "metadata": {
        "id": "CjTuO_s6uM8E"
      },
      "source": [
        "#### RE-compile and summary"
      ]
    },
    {
      "cell_type": "code",
      "metadata": {
        "id": "zcZUG0hNsij0",
        "colab": {
          "base_uri": "https://localhost:8080/",
          "height": 319
        },
        "outputId": "3e5330a3-f38a-4f56-83c4-cd56fb3ac2a5"
      },
      "source": [
        "#Compile architecture\n",
        "vgg19_DP.compile(optimizer='adam',\n",
        "              loss='sparse_categorical_crossentropy',\n",
        "              metrics=['accuracy'])\n",
        "\n",
        "vgg19_DP.summary()"
      ],
      "execution_count": null,
      "outputs": [
        {
          "output_type": "stream",
          "text": [
            "Model: \"functional_1\"\n",
            "_________________________________________________________________\n",
            "Layer (type)                 Output Shape              Param #   \n",
            "=================================================================\n",
            "input_7 (InputLayer)         [(None, 32, 32, 3)]       0         \n",
            "_________________________________________________________________\n",
            "vgg19 (Functional)           (None, 1, 1, 512)         20024384  \n",
            "_________________________________________________________________\n",
            "flatten_3 (Flatten)          (None, 512)               0         \n",
            "_________________________________________________________________\n",
            "dense_2 (Dense)              (None, 200)               102600    \n",
            "_________________________________________________________________\n",
            "dense_3 (Dense)              (None, 100)               20100     \n",
            "=================================================================\n",
            "Total params: 20,147,084\n",
            "Trainable params: 20,147,084\n",
            "Non-trainable params: 0\n",
            "_________________________________________________________________\n"
          ],
          "name": "stdout"
        }
      ]
    },
    {
      "cell_type": "markdown",
      "metadata": {
        "id": "i-kzMNLrOdit"
      },
      "source": [
        "# And now? What should we do?\n",
        "\n",
        "![](https://drive.google.com/uc?export=view&id=1k9_HZH4LhYpbseIvRgQ-1ko6UF4C_hEb)\n"
      ]
    },
    {
      "cell_type": "markdown",
      "metadata": {
        "id": "l5JEjN6wsI5M"
      },
      "source": [
        "### Freeze Parameters"
      ]
    },
    {
      "cell_type": "code",
      "metadata": {
        "id": "cI9_RSisr7WB",
        "colab": {
          "base_uri": "https://localhost:8080/",
          "height": 890
        },
        "outputId": "e7e8f337-fccd-4926-a41f-fec8c0355970"
      },
      "source": [
        "vgg19.trainable = False\n",
        "vgg19.summary()"
      ],
      "execution_count": null,
      "outputs": [
        {
          "output_type": "stream",
          "text": [
            "Model: \"vgg19\"\n",
            "_________________________________________________________________\n",
            "Layer (type)                 Output Shape              Param #   \n",
            "=================================================================\n",
            "input_2 (InputLayer)         [(None, 32, 32, 3)]       0         \n",
            "_________________________________________________________________\n",
            "block1_conv1 (Conv2D)        (None, 32, 32, 64)        1792      \n",
            "_________________________________________________________________\n",
            "block1_conv2 (Conv2D)        (None, 32, 32, 64)        36928     \n",
            "_________________________________________________________________\n",
            "block1_pool (MaxPooling2D)   (None, 16, 16, 64)        0         \n",
            "_________________________________________________________________\n",
            "block2_conv1 (Conv2D)        (None, 16, 16, 128)       73856     \n",
            "_________________________________________________________________\n",
            "block2_conv2 (Conv2D)        (None, 16, 16, 128)       147584    \n",
            "_________________________________________________________________\n",
            "block2_pool (MaxPooling2D)   (None, 8, 8, 128)         0         \n",
            "_________________________________________________________________\n",
            "block3_conv1 (Conv2D)        (None, 8, 8, 256)         295168    \n",
            "_________________________________________________________________\n",
            "block3_conv2 (Conv2D)        (None, 8, 8, 256)         590080    \n",
            "_________________________________________________________________\n",
            "block3_conv3 (Conv2D)        (None, 8, 8, 256)         590080    \n",
            "_________________________________________________________________\n",
            "block3_conv4 (Conv2D)        (None, 8, 8, 256)         590080    \n",
            "_________________________________________________________________\n",
            "block3_pool (MaxPooling2D)   (None, 4, 4, 256)         0         \n",
            "_________________________________________________________________\n",
            "block4_conv1 (Conv2D)        (None, 4, 4, 512)         1180160   \n",
            "_________________________________________________________________\n",
            "block4_conv2 (Conv2D)        (None, 4, 4, 512)         2359808   \n",
            "_________________________________________________________________\n",
            "block4_conv3 (Conv2D)        (None, 4, 4, 512)         2359808   \n",
            "_________________________________________________________________\n",
            "block4_conv4 (Conv2D)        (None, 4, 4, 512)         2359808   \n",
            "_________________________________________________________________\n",
            "block4_pool (MaxPooling2D)   (None, 2, 2, 512)         0         \n",
            "_________________________________________________________________\n",
            "block5_conv1 (Conv2D)        (None, 2, 2, 512)         2359808   \n",
            "_________________________________________________________________\n",
            "block5_conv2 (Conv2D)        (None, 2, 2, 512)         2359808   \n",
            "_________________________________________________________________\n",
            "block5_conv3 (Conv2D)        (None, 2, 2, 512)         2359808   \n",
            "_________________________________________________________________\n",
            "block5_conv4 (Conv2D)        (None, 2, 2, 512)         2359808   \n",
            "_________________________________________________________________\n",
            "block5_pool (MaxPooling2D)   (None, 1, 1, 512)         0         \n",
            "=================================================================\n",
            "Total params: 20,024,384\n",
            "Trainable params: 0\n",
            "Non-trainable params: 20,024,384\n",
            "_________________________________________________________________\n"
          ],
          "name": "stdout"
        }
      ]
    },
    {
      "cell_type": "code",
      "metadata": {
        "id": "ahBhU-ZMoo96",
        "colab": {
          "base_uri": "https://localhost:8080/",
          "height": 319
        },
        "outputId": "9f511ed3-6e4b-4f62-d2e7-e44b7717b653"
      },
      "source": [
        "vgg19_DP.trainable = True\n",
        "vgg19.trainable = False\n",
        "\n",
        "vgg19_DP.summary()"
      ],
      "execution_count": null,
      "outputs": [
        {
          "output_type": "stream",
          "text": [
            "Model: \"functional_1\"\n",
            "_________________________________________________________________\n",
            "Layer (type)                 Output Shape              Param #   \n",
            "=================================================================\n",
            "input_7 (InputLayer)         [(None, 32, 32, 3)]       0         \n",
            "_________________________________________________________________\n",
            "vgg19 (Functional)           (None, 1, 1, 512)         20024384  \n",
            "_________________________________________________________________\n",
            "flatten_3 (Flatten)          (None, 512)               0         \n",
            "_________________________________________________________________\n",
            "dense_2 (Dense)              (None, 200)               102600    \n",
            "_________________________________________________________________\n",
            "dense_3 (Dense)              (None, 100)               20100     \n",
            "=================================================================\n",
            "Total params: 20,147,084\n",
            "Trainable params: 122,700\n",
            "Non-trainable params: 20,024,384\n",
            "_________________________________________________________________\n"
          ],
          "name": "stdout"
        }
      ]
    },
    {
      "cell_type": "markdown",
      "metadata": {
        "id": "wLT9EtkvvERD"
      },
      "source": [
        "## Evaluate directly!"
      ]
    },
    {
      "cell_type": "code",
      "metadata": {
        "id": "SraEbF_9ASW0",
        "colab": {
          "base_uri": "https://localhost:8080/",
          "height": 310
        },
        "outputId": "585faffa-0d6b-4064-e4ce-6290c9819183"
      },
      "source": [
        "# define callbacks\n",
        "\n",
        "%load_ext tensorboard\n",
        "log_dir = \"logs/fit/\" + datetime.datetime.now().strftime(\"%Y%m%d-%H%M%S\")\n",
        "tensorboard_callback = tf.keras.callbacks.TensorBoard(log_dir=log_dir, histogram_freq=1)\n",
        "\n",
        "# start train \n",
        "history_VGG = vgg19_DP.fit(x=x_train, \n",
        "          y=y_train, \n",
        "          epochs=5,\n",
        "          validation_split=0.2, \n",
        "          callbacks=[tensorboard_callback], verbose=1)\n",
        "\n",
        "score = vgg19_DP.evaluate(x_test, y_test, verbose=0)\n",
        "print(score[0], ' : loss')\n",
        "print(score[1]*100, '% : acc')"
      ],
      "execution_count": null,
      "outputs": [
        {
          "output_type": "stream",
          "text": [
            "The tensorboard extension is already loaded. To reload it, use:\n",
            "  %reload_ext tensorboard\n",
            "Epoch 1/5\n",
            "   2/1250 [..............................] - ETA: 34s - loss: 41181152.0000 - accuracy: 0.0000e+00WARNING:tensorflow:Callbacks method `on_train_batch_end` is slow compared to the batch time (batch time: 0.0071s vs `on_train_batch_end` time: 0.0471s). Check your callbacks.\n",
            "1250/1250 [==============================] - 18s 14ms/step - loss: 2765401.5000 - accuracy: 0.0106 - val_loss: 4.6050 - val_accuracy: 0.0104\n",
            "Epoch 2/5\n",
            "1250/1250 [==============================] - 18s 14ms/step - loss: 4.6055 - accuracy: 0.0098 - val_loss: 4.6056 - val_accuracy: 0.0086\n",
            "Epoch 3/5\n",
            "1250/1250 [==============================] - 18s 14ms/step - loss: 4.6055 - accuracy: 0.0101 - val_loss: 4.6064 - val_accuracy: 0.0084\n",
            "Epoch 4/5\n",
            "1250/1250 [==============================] - 18s 14ms/step - loss: 4.6056 - accuracy: 0.0098 - val_loss: 4.6071 - val_accuracy: 0.0084\n",
            "Epoch 5/5\n",
            "1250/1250 [==============================] - 18s 14ms/step - loss: 4.6056 - accuracy: 0.0095 - val_loss: 4.6074 - val_accuracy: 0.0084\n",
            "4.6053972244262695  : loss\n",
            "0.9999999776482582 % : acc\n"
          ],
          "name": "stdout"
        }
      ]
    },
    {
      "cell_type": "code",
      "metadata": {
        "id": "I3Uku4GQvEqx"
      },
      "source": [
        ""
      ],
      "execution_count": null,
      "outputs": []
    },
    {
      "cell_type": "markdown",
      "metadata": {
        "id": "FczYioUrzxMS"
      },
      "source": [
        "## Transfer Learning as Weights Initialization"
      ]
    },
    {
      "cell_type": "code",
      "metadata": {
        "id": "z36zDRiSvNdF",
        "colab": {
          "base_uri": "https://localhost:8080/",
          "height": 345
        },
        "outputId": "9f1aeeac-24ac-4523-a7a0-a47bd497fd45"
      },
      "source": [
        "vgg19_WI = vgg19_DP\n",
        "vgg19_WI.trainable = True\n",
        "vgg19_WI.summary()"
      ],
      "execution_count": null,
      "outputs": [
        {
          "output_type": "stream",
          "text": [
            "Model: \"functional_31\"\n",
            "_________________________________________________________________\n",
            "Layer (type)                 Output Shape              Param #   \n",
            "=================================================================\n",
            "input_21 (InputLayer)        [(None, 32, 32, 3)]       0         \n",
            "_________________________________________________________________\n",
            "vgg19 (Functional)           (None, 1, 1, 512)         20024384  \n",
            "_________________________________________________________________\n",
            "flatten_8 (Flatten)          (None, 512)               0         \n",
            "_________________________________________________________________\n",
            "dense_13 (Dense)             (None, 250)               128250    \n",
            "_________________________________________________________________\n",
            "dense_14 (Dense)             (None, 100)               25100     \n",
            "=================================================================\n",
            "Total params: 20,177,734\n",
            "Trainable params: 20,177,734\n",
            "Non-trainable params: 0\n",
            "_________________________________________________________________\n"
          ],
          "name": "stdout"
        }
      ]
    },
    {
      "cell_type": "code",
      "metadata": {
        "id": "pHrZVbQavNn6"
      },
      "source": [
        "# define callbacks\n",
        "\n",
        "%load_ext tensorboard\n",
        "log_dir = \"logs/fit/\" + datetime.datetime.now().strftime(\"%Y%m%d-%H%M%S\")\n",
        "tensorboard_callback = tf.keras.callbacks.TensorBoard(log_dir=log_dir, histogram_freq=1)\n",
        "\n",
        "# start train \n",
        "history_VGG = vgg19_WI.fit(x=x_train, \n",
        "          y=y_train, \n",
        "          epochs=5,\n",
        "          validation_split=0.2, \n",
        "          callbacks=[tensorboard_callback], verbose=1)\n",
        "\n",
        "score = vgg19_WI.evaluate(x_test, y_test, verbose=0)\n",
        "print(score[0], ' : loss')\n",
        "print(score[1]*100, '% : acc')"
      ],
      "execution_count": null,
      "outputs": []
    },
    {
      "cell_type": "markdown",
      "metadata": {
        "id": "DBcVMQiMzxMT"
      },
      "source": [
        "![](https://github.com/matteoalberti/Lectures_introCV_Experis2020/blob/main/images/DL4CV1.png?raw=1)"
      ]
    },
    {
      "cell_type": "markdown",
      "metadata": {
        "id": "DkySA_MZzxMm"
      },
      "source": [
        "## Transfer Learning as Features Extractor"
      ]
    },
    {
      "cell_type": "code",
      "metadata": {
        "id": "iSZnevviwDu2",
        "colab": {
          "base_uri": "https://localhost:8080/",
          "height": 816
        },
        "outputId": "f4a35b03-b2a8-406f-f02c-65e44b690fae"
      },
      "source": [
        "pd.set_option('max_colwidth', -1)\n",
        "\n",
        "layers = [(layer.name, layer.trainable) for layer in vgg19_WI.layers]\n",
        "layers_initial = [(layer.name, layer.trainable) for layer in vgg19.layers]\n",
        "\n",
        "vgg_initial = pd.DataFrame(layers_initial, columns=['Layer Name', 'Layer Trainable'])\n",
        "vgg_model = pd.DataFrame(layers, columns=['Layer Name', 'Layer Trainable'])\n",
        "\n",
        "vgg_trainable = pd.concat([vgg_initial, vgg_model[2:]])\n",
        "\n",
        "vgg_trainable.head(100)"
      ],
      "execution_count": null,
      "outputs": [
        {
          "output_type": "stream",
          "text": [
            "__main__:1: FutureWarning: Passing a negative integer is deprecated in version 1.0 and will not be supported in future version. Instead, use None to not limit the column width.\n"
          ],
          "name": "stderr"
        },
        {
          "output_type": "execute_result",
          "data": {
            "text/html": [
              "<div>\n",
              "<style scoped>\n",
              "    .dataframe tbody tr th:only-of-type {\n",
              "        vertical-align: middle;\n",
              "    }\n",
              "\n",
              "    .dataframe tbody tr th {\n",
              "        vertical-align: top;\n",
              "    }\n",
              "\n",
              "    .dataframe thead th {\n",
              "        text-align: right;\n",
              "    }\n",
              "</style>\n",
              "<table border=\"1\" class=\"dataframe\">\n",
              "  <thead>\n",
              "    <tr style=\"text-align: right;\">\n",
              "      <th></th>\n",
              "      <th>Layer Name</th>\n",
              "      <th>Layer Trainable</th>\n",
              "    </tr>\n",
              "  </thead>\n",
              "  <tbody>\n",
              "    <tr>\n",
              "      <th>0</th>\n",
              "      <td>input_14</td>\n",
              "      <td>True</td>\n",
              "    </tr>\n",
              "    <tr>\n",
              "      <th>1</th>\n",
              "      <td>block1_conv1</td>\n",
              "      <td>True</td>\n",
              "    </tr>\n",
              "    <tr>\n",
              "      <th>2</th>\n",
              "      <td>block1_conv2</td>\n",
              "      <td>True</td>\n",
              "    </tr>\n",
              "    <tr>\n",
              "      <th>3</th>\n",
              "      <td>block1_pool</td>\n",
              "      <td>True</td>\n",
              "    </tr>\n",
              "    <tr>\n",
              "      <th>4</th>\n",
              "      <td>block2_conv1</td>\n",
              "      <td>True</td>\n",
              "    </tr>\n",
              "    <tr>\n",
              "      <th>5</th>\n",
              "      <td>block2_conv2</td>\n",
              "      <td>True</td>\n",
              "    </tr>\n",
              "    <tr>\n",
              "      <th>6</th>\n",
              "      <td>block2_pool</td>\n",
              "      <td>True</td>\n",
              "    </tr>\n",
              "    <tr>\n",
              "      <th>7</th>\n",
              "      <td>block3_conv1</td>\n",
              "      <td>True</td>\n",
              "    </tr>\n",
              "    <tr>\n",
              "      <th>8</th>\n",
              "      <td>block3_conv2</td>\n",
              "      <td>True</td>\n",
              "    </tr>\n",
              "    <tr>\n",
              "      <th>9</th>\n",
              "      <td>block3_conv3</td>\n",
              "      <td>True</td>\n",
              "    </tr>\n",
              "    <tr>\n",
              "      <th>10</th>\n",
              "      <td>block3_conv4</td>\n",
              "      <td>True</td>\n",
              "    </tr>\n",
              "    <tr>\n",
              "      <th>11</th>\n",
              "      <td>block3_pool</td>\n",
              "      <td>True</td>\n",
              "    </tr>\n",
              "    <tr>\n",
              "      <th>12</th>\n",
              "      <td>block4_conv1</td>\n",
              "      <td>True</td>\n",
              "    </tr>\n",
              "    <tr>\n",
              "      <th>13</th>\n",
              "      <td>block4_conv2</td>\n",
              "      <td>True</td>\n",
              "    </tr>\n",
              "    <tr>\n",
              "      <th>14</th>\n",
              "      <td>block4_conv3</td>\n",
              "      <td>True</td>\n",
              "    </tr>\n",
              "    <tr>\n",
              "      <th>15</th>\n",
              "      <td>block4_conv4</td>\n",
              "      <td>True</td>\n",
              "    </tr>\n",
              "    <tr>\n",
              "      <th>16</th>\n",
              "      <td>block4_pool</td>\n",
              "      <td>True</td>\n",
              "    </tr>\n",
              "    <tr>\n",
              "      <th>17</th>\n",
              "      <td>block5_conv1</td>\n",
              "      <td>True</td>\n",
              "    </tr>\n",
              "    <tr>\n",
              "      <th>18</th>\n",
              "      <td>block5_conv2</td>\n",
              "      <td>True</td>\n",
              "    </tr>\n",
              "    <tr>\n",
              "      <th>19</th>\n",
              "      <td>block5_conv3</td>\n",
              "      <td>True</td>\n",
              "    </tr>\n",
              "    <tr>\n",
              "      <th>20</th>\n",
              "      <td>block5_conv4</td>\n",
              "      <td>True</td>\n",
              "    </tr>\n",
              "    <tr>\n",
              "      <th>21</th>\n",
              "      <td>block5_pool</td>\n",
              "      <td>True</td>\n",
              "    </tr>\n",
              "    <tr>\n",
              "      <th>2</th>\n",
              "      <td>flatten_8</td>\n",
              "      <td>True</td>\n",
              "    </tr>\n",
              "    <tr>\n",
              "      <th>3</th>\n",
              "      <td>dense_13</td>\n",
              "      <td>True</td>\n",
              "    </tr>\n",
              "    <tr>\n",
              "      <th>4</th>\n",
              "      <td>dense_14</td>\n",
              "      <td>True</td>\n",
              "    </tr>\n",
              "  </tbody>\n",
              "</table>\n",
              "</div>"
            ],
            "text/plain": [
              "      Layer Name  Layer Trainable\n",
              "0   input_14      True           \n",
              "1   block1_conv1  True           \n",
              "2   block1_conv2  True           \n",
              "3   block1_pool   True           \n",
              "4   block2_conv1  True           \n",
              "5   block2_conv2  True           \n",
              "6   block2_pool   True           \n",
              "7   block3_conv1  True           \n",
              "8   block3_conv2  True           \n",
              "9   block3_conv3  True           \n",
              "10  block3_conv4  True           \n",
              "11  block3_pool   True           \n",
              "12  block4_conv1  True           \n",
              "13  block4_conv2  True           \n",
              "14  block4_conv3  True           \n",
              "15  block4_conv4  True           \n",
              "16  block4_pool   True           \n",
              "17  block5_conv1  True           \n",
              "18  block5_conv2  True           \n",
              "19  block5_conv3  True           \n",
              "20  block5_conv4  True           \n",
              "21  block5_pool   True           \n",
              "2   flatten_8     True           \n",
              "3   dense_13      True           \n",
              "4   dense_14      True           "
            ]
          },
          "metadata": {
            "tags": []
          },
          "execution_count": 102
        }
      ]
    },
    {
      "cell_type": "markdown",
      "metadata": {
        "id": "rO1d4B6M1Yfn"
      },
      "source": [
        "## Freeze only some layers"
      ]
    },
    {
      "cell_type": "code",
      "metadata": {
        "id": "QAbodFDTp1g1",
        "colab": {
          "base_uri": "https://localhost:8080/",
          "height": 386
        },
        "outputId": "a3238f51-f041-4d44-ab3d-b95a928f7efb"
      },
      "source": [
        "vgg19.layers"
      ],
      "execution_count": null,
      "outputs": [
        {
          "output_type": "execute_result",
          "data": {
            "text/plain": [
              "[<tensorflow.python.keras.engine.input_layer.InputLayer at 0x7f5b50d12940>,\n",
              " <tensorflow.python.keras.layers.convolutional.Conv2D at 0x7f5b50d5f9e8>,\n",
              " <tensorflow.python.keras.layers.convolutional.Conv2D at 0x7f5b50d866d8>,\n",
              " <tensorflow.python.keras.layers.pooling.MaxPooling2D at 0x7f5b50d86940>,\n",
              " <tensorflow.python.keras.layers.convolutional.Conv2D at 0x7f5b50d30908>,\n",
              " <tensorflow.python.keras.layers.convolutional.Conv2D at 0x7f5b50d432b0>,\n",
              " <tensorflow.python.keras.layers.pooling.MaxPooling2D at 0x7f5b50d436a0>,\n",
              " <tensorflow.python.keras.layers.convolutional.Conv2D at 0x7f5b50d46358>,\n",
              " <tensorflow.python.keras.layers.convolutional.Conv2D at 0x7f5b50d46ef0>,\n",
              " <tensorflow.python.keras.layers.convolutional.Conv2D at 0x7f5b402c35f8>,\n",
              " <tensorflow.python.keras.layers.convolutional.Conv2D at 0x7f5b402cb748>,\n",
              " <tensorflow.python.keras.layers.pooling.MaxPooling2D at 0x7f5b402cba58>,\n",
              " <tensorflow.python.keras.layers.convolutional.Conv2D at 0x7f5b402d1588>,\n",
              " <tensorflow.python.keras.layers.convolutional.Conv2D at 0x7f5b402d9400>,\n",
              " <tensorflow.python.keras.layers.convolutional.Conv2D at 0x7f5b402d9828>,\n",
              " <tensorflow.python.keras.layers.convolutional.Conv2D at 0x7f5b402df400>,\n",
              " <tensorflow.python.keras.layers.pooling.MaxPooling2D at 0x7f5b402dfc88>,\n",
              " <tensorflow.python.keras.layers.convolutional.Conv2D at 0x7f5b402e67b8>,\n",
              " <tensorflow.python.keras.layers.convolutional.Conv2D at 0x7f5b402ef630>,\n",
              " <tensorflow.python.keras.layers.convolutional.Conv2D at 0x7f5b402ef6d8>,\n",
              " <tensorflow.python.keras.layers.convolutional.Conv2D at 0x7f5b402fa630>,\n",
              " <tensorflow.python.keras.layers.pooling.MaxPooling2D at 0x7f5b40283780>]"
            ]
          },
          "metadata": {
            "tags": []
          },
          "execution_count": 19
        }
      ]
    },
    {
      "cell_type": "code",
      "metadata": {
        "id": "_9hV_LN31NEE",
        "colab": {
          "base_uri": "https://localhost:8080/",
          "height": 816
        },
        "outputId": "eedbd3c2-c4d1-4794-eb81-d029c34c025b"
      },
      "source": [
        "# Freeze all the layers before the `fine_tune_at` layer\n",
        "for layer in vgg19.layers[:10]:\n",
        "  layer.trainable =  False\n",
        "\n",
        "\n",
        "pd.set_option('max_colwidth', -1)\n",
        "\n",
        "layers = [(layer.name, layer.trainable) for layer in vgg19_WI.layers]\n",
        "layers_initial = [(layer.name, layer.trainable) for layer in vgg19.layers]\n",
        "\n",
        "vgg_initial = pd.DataFrame(layers_initial, columns=['Layer Name', 'Layer Trainable'])\n",
        "vgg_model = pd.DataFrame(layers, columns=['Layer Name', 'Layer Trainable'])\n",
        "\n",
        "vgg_trainable = pd.concat([vgg_initial, vgg_model[2:]])\n",
        "\n",
        "vgg_trainable.head(100)"
      ],
      "execution_count": null,
      "outputs": [
        {
          "output_type": "stream",
          "text": [
            "__main__:8: FutureWarning: Passing a negative integer is deprecated in version 1.0 and will not be supported in future version. Instead, use None to not limit the column width.\n"
          ],
          "name": "stderr"
        },
        {
          "output_type": "execute_result",
          "data": {
            "text/html": [
              "<div>\n",
              "<style scoped>\n",
              "    .dataframe tbody tr th:only-of-type {\n",
              "        vertical-align: middle;\n",
              "    }\n",
              "\n",
              "    .dataframe tbody tr th {\n",
              "        vertical-align: top;\n",
              "    }\n",
              "\n",
              "    .dataframe thead th {\n",
              "        text-align: right;\n",
              "    }\n",
              "</style>\n",
              "<table border=\"1\" class=\"dataframe\">\n",
              "  <thead>\n",
              "    <tr style=\"text-align: right;\">\n",
              "      <th></th>\n",
              "      <th>Layer Name</th>\n",
              "      <th>Layer Trainable</th>\n",
              "    </tr>\n",
              "  </thead>\n",
              "  <tbody>\n",
              "    <tr>\n",
              "      <th>0</th>\n",
              "      <td>input_14</td>\n",
              "      <td>False</td>\n",
              "    </tr>\n",
              "    <tr>\n",
              "      <th>1</th>\n",
              "      <td>block1_conv1</td>\n",
              "      <td>False</td>\n",
              "    </tr>\n",
              "    <tr>\n",
              "      <th>2</th>\n",
              "      <td>block1_conv2</td>\n",
              "      <td>False</td>\n",
              "    </tr>\n",
              "    <tr>\n",
              "      <th>3</th>\n",
              "      <td>block1_pool</td>\n",
              "      <td>False</td>\n",
              "    </tr>\n",
              "    <tr>\n",
              "      <th>4</th>\n",
              "      <td>block2_conv1</td>\n",
              "      <td>False</td>\n",
              "    </tr>\n",
              "    <tr>\n",
              "      <th>5</th>\n",
              "      <td>block2_conv2</td>\n",
              "      <td>False</td>\n",
              "    </tr>\n",
              "    <tr>\n",
              "      <th>6</th>\n",
              "      <td>block2_pool</td>\n",
              "      <td>False</td>\n",
              "    </tr>\n",
              "    <tr>\n",
              "      <th>7</th>\n",
              "      <td>block3_conv1</td>\n",
              "      <td>False</td>\n",
              "    </tr>\n",
              "    <tr>\n",
              "      <th>8</th>\n",
              "      <td>block3_conv2</td>\n",
              "      <td>False</td>\n",
              "    </tr>\n",
              "    <tr>\n",
              "      <th>9</th>\n",
              "      <td>block3_conv3</td>\n",
              "      <td>False</td>\n",
              "    </tr>\n",
              "    <tr>\n",
              "      <th>10</th>\n",
              "      <td>block3_conv4</td>\n",
              "      <td>True</td>\n",
              "    </tr>\n",
              "    <tr>\n",
              "      <th>11</th>\n",
              "      <td>block3_pool</td>\n",
              "      <td>True</td>\n",
              "    </tr>\n",
              "    <tr>\n",
              "      <th>12</th>\n",
              "      <td>block4_conv1</td>\n",
              "      <td>True</td>\n",
              "    </tr>\n",
              "    <tr>\n",
              "      <th>13</th>\n",
              "      <td>block4_conv2</td>\n",
              "      <td>True</td>\n",
              "    </tr>\n",
              "    <tr>\n",
              "      <th>14</th>\n",
              "      <td>block4_conv3</td>\n",
              "      <td>True</td>\n",
              "    </tr>\n",
              "    <tr>\n",
              "      <th>15</th>\n",
              "      <td>block4_conv4</td>\n",
              "      <td>True</td>\n",
              "    </tr>\n",
              "    <tr>\n",
              "      <th>16</th>\n",
              "      <td>block4_pool</td>\n",
              "      <td>True</td>\n",
              "    </tr>\n",
              "    <tr>\n",
              "      <th>17</th>\n",
              "      <td>block5_conv1</td>\n",
              "      <td>True</td>\n",
              "    </tr>\n",
              "    <tr>\n",
              "      <th>18</th>\n",
              "      <td>block5_conv2</td>\n",
              "      <td>True</td>\n",
              "    </tr>\n",
              "    <tr>\n",
              "      <th>19</th>\n",
              "      <td>block5_conv3</td>\n",
              "      <td>True</td>\n",
              "    </tr>\n",
              "    <tr>\n",
              "      <th>20</th>\n",
              "      <td>block5_conv4</td>\n",
              "      <td>True</td>\n",
              "    </tr>\n",
              "    <tr>\n",
              "      <th>21</th>\n",
              "      <td>block5_pool</td>\n",
              "      <td>True</td>\n",
              "    </tr>\n",
              "    <tr>\n",
              "      <th>2</th>\n",
              "      <td>flatten_8</td>\n",
              "      <td>True</td>\n",
              "    </tr>\n",
              "    <tr>\n",
              "      <th>3</th>\n",
              "      <td>dense_13</td>\n",
              "      <td>True</td>\n",
              "    </tr>\n",
              "    <tr>\n",
              "      <th>4</th>\n",
              "      <td>dense_14</td>\n",
              "      <td>True</td>\n",
              "    </tr>\n",
              "  </tbody>\n",
              "</table>\n",
              "</div>"
            ],
            "text/plain": [
              "      Layer Name  Layer Trainable\n",
              "0   input_14      False          \n",
              "1   block1_conv1  False          \n",
              "2   block1_conv2  False          \n",
              "3   block1_pool   False          \n",
              "4   block2_conv1  False          \n",
              "5   block2_conv2  False          \n",
              "6   block2_pool   False          \n",
              "7   block3_conv1  False          \n",
              "8   block3_conv2  False          \n",
              "9   block3_conv3  False          \n",
              "10  block3_conv4  True           \n",
              "11  block3_pool   True           \n",
              "12  block4_conv1  True           \n",
              "13  block4_conv2  True           \n",
              "14  block4_conv3  True           \n",
              "15  block4_conv4  True           \n",
              "16  block4_pool   True           \n",
              "17  block5_conv1  True           \n",
              "18  block5_conv2  True           \n",
              "19  block5_conv3  True           \n",
              "20  block5_conv4  True           \n",
              "21  block5_pool   True           \n",
              "2   flatten_8     True           \n",
              "3   dense_13      True           \n",
              "4   dense_14      True           "
            ]
          },
          "metadata": {
            "tags": []
          },
          "execution_count": 103
        }
      ]
    },
    {
      "cell_type": "markdown",
      "metadata": {
        "id": "wtWdoMJEzxNa"
      },
      "source": [
        "## Which are the main problems with this kind of apporach?\n",
        "\n",
        "- Why Models are defined and we have to read so many papers?\n",
        "    - Is our model robust?\n",
        "\n",
        "- But when we have some time/consumption-constraints we need to achieve a fast solution\n",
        "\n",
        "*In Deep Learning we have always to think about what we are doing*\n",
        "\n",
        "If we want to do customs methods we should at least find a way to **Evaluate** how our models are working\n"
      ]
    },
    {
      "cell_type": "markdown",
      "metadata": {
        "id": "OZRAVYsHzxLm"
      },
      "source": [
        "##### Load fashion_mnist from tf.keras.datasets\n",
        "\n",
        "*Check interactive visualization :*\n",
        "https://github.com/zalandoresearch/fashion-mnist"
      ]
    },
    {
      "cell_type": "markdown",
      "metadata": {
        "id": "kCk54pQmsYh8"
      },
      "source": [
        "##   Think about the following situations :\n",
        "\n",
        "- From Cifar100 --> Cifar10\n",
        "\n",
        "Answer :\n",
        "\n",
        "- From Cifar10 --> Cifar100\n",
        "\n",
        "Answer :\n",
        "\n",
        "- From Cifar100 --> Fashion_Mnist\n",
        "\n",
        "Answer :\n",
        "\n",
        "- From Cifar10 --> Fashion_Mnist\n",
        "\n",
        "Answer :"
      ]
    },
    {
      "cell_type": "markdown",
      "metadata": {
        "id": "EHtWl14Z9Re0"
      },
      "source": [
        "### Initialize folder"
      ]
    },
    {
      "cell_type": "code",
      "metadata": {
        "id": "kiVOQ6Sv-DTs"
      },
      "source": [
        "import tensorflow as tf\n",
        "import datetime"
      ],
      "execution_count": null,
      "outputs": []
    },
    {
      "cell_type": "code",
      "metadata": {
        "id": "8ZP0eGvw9Rpo"
      },
      "source": [
        "! mkdir weights"
      ],
      "execution_count": null,
      "outputs": []
    },
    {
      "cell_type": "markdown",
      "metadata": {
        "id": "SocetFjg6_OC"
      },
      "source": [
        "## First case!\n",
        "\n",
        "- Cifar100 to cifar10"
      ]
    },
    {
      "cell_type": "code",
      "metadata": {
        "id": "e1c7kr6L9q7K",
        "colab": {
          "base_uri": "https://localhost:8080/",
          "height": 34
        },
        "outputId": "b7612d4d-d4ab-4196-d7e5-8b652b3f3a91"
      },
      "source": [
        "! mkdir logs/first_case"
      ],
      "execution_count": null,
      "outputs": [
        {
          "output_type": "stream",
          "text": [
            "mkdir: cannot create directory ‘logs/first_case’: No such file or directory\n"
          ],
          "name": "stdout"
        }
      ]
    },
    {
      "cell_type": "code",
      "metadata": {
        "id": "lVKDL5k_8ZfX"
      },
      "source": [
        "input_shape = (32,32,3)"
      ],
      "execution_count": null,
      "outputs": []
    },
    {
      "cell_type": "code",
      "metadata": {
        "id": "aAeWM4i57SEQ",
        "colab": {
          "base_uri": "https://localhost:8080/",
          "height": 87
        },
        "outputId": "d00611cb-47d0-4322-8eda-e03e8d620b77"
      },
      "source": [
        "(x_train100, y_train100), (x_test100, y_test100) = tf.keras.datasets.cifar100.load_data()\n",
        "\n",
        "print(x_train100.shape, y_train100.shape, x_test100.shape, y_test100.shape)\n",
        "\n",
        "#The range for each individual colour is 0-255\n",
        "x_train100 = x_train100.astype('float32')/255 \n",
        "x_test100 = x_test100.astype('float32')/255\n",
        "\n",
        "(x_train10, y_train10), (x_test10, y_test10) = tf.keras.datasets.cifar100.load_data()\n",
        "\n",
        "print(x_train10.shape, y_train10.shape, x_test10.shape, y_test10.shape)\n",
        "\n",
        "#The range for each individual colour is 0-255\n",
        "x_train10 = x_train10.astype('float32')/255 \n",
        "x_test10 = x_test10.astype('float32')/255"
      ],
      "execution_count": null,
      "outputs": [
        {
          "output_type": "stream",
          "text": [
            "Downloading data from https://www.cs.toronto.edu/~kriz/cifar-100-python.tar.gz\n",
            "169009152/169001437 [==============================] - 11s 0us/step\n",
            "(50000, 32, 32, 3) (50000, 1) (10000, 32, 32, 3) (10000, 1)\n",
            "(50000, 32, 32, 3) (50000, 1) (10000, 32, 32, 3) (10000, 1)\n"
          ],
          "name": "stdout"
        }
      ]
    },
    {
      "cell_type": "code",
      "metadata": {
        "id": "kbSyX3ShCS-k"
      },
      "source": [
        "y_train100_b = tf.keras.utils.to_categorical(y_train100)\n",
        "y_test100_b = tf.keras.utils.to_categorical(y_test100)"
      ],
      "execution_count": null,
      "outputs": []
    },
    {
      "cell_type": "markdown",
      "metadata": {
        "id": "ljmJEhM88tKX"
      },
      "source": [
        "### Build Model and Layers"
      ]
    },
    {
      "cell_type": "code",
      "metadata": {
        "id": "LatvIt_Z8tVx"
      },
      "source": [
        "#Instantiate an empty model\n",
        "\n",
        "def VGG_blocks2(n_conv, rec_field, act):\n",
        "  return tf.keras.models.Sequential([    \n",
        "  tf.keras.layers.Conv2D(n_conv, rec_field, padding='same', activation=act),\n",
        "  tf.keras.layers.Conv2D(n_conv, rec_field, activation=act, padding='same'),\n",
        "  tf.keras.layers.MaxPooling2D(pool_size=(2, 2), strides=(2, 2))])\n",
        "\n",
        "def VGG_blocks1(n_conv, rec_field, act):\n",
        "  return tf.keras.models.Sequential([    \n",
        "  tf.keras.layers.Conv2D(n_conv, rec_field, padding='same', activation=act),\n",
        "  tf.keras.layers.MaxPooling2D(pool_size=(2, 2), strides=(2, 2))])\n",
        "\n",
        "def CLASSIFICATION(n_dense, n_classes):\n",
        "  return tf.keras.models.Sequential([\n",
        "  tf.keras.layers.Dense(n_dense, activation='relu'),\n",
        "  tf.keras.layers.Dense(n_dense, activation='relu'),\n",
        "  tf.keras.layers.Dense(n_classes, activation='softmax')])"
      ],
      "execution_count": null,
      "outputs": []
    },
    {
      "cell_type": "code",
      "metadata": {
        "id": "8c6324jc88O2",
        "colab": {
          "base_uri": "https://localhost:8080/",
          "height": 399
        },
        "outputId": "0b56b087-1ee6-4c08-c541-f68da755ebb4"
      },
      "source": [
        "inputs = tf.keras.Input(shape=input_shape)\n",
        "\n",
        "x = VGG_blocks1(n_conv=64, rec_field=(3,3), act='relu')(inputs)\n",
        "x = VGG_blocks1(n_conv=128, rec_field=(3,3), act='relu')(x)\n",
        "x = VGG_blocks2(n_conv=256, rec_field=(3,3), act='relu')(x)\n",
        "x = VGG_blocks2(n_conv=512, rec_field=(3,3), act='relu')(x)\n",
        "#x = VGG_blocks2(n_conv=512, rec_field=(3,3), act='relu')(x)\n",
        "x = tf.keras.layers.Flatten()(x)\n",
        "outputs = CLASSIFICATION(n_dense=256, n_classes=100)(x)\n",
        "\n",
        "\n",
        "VGG_EASY = tf.keras.Model(inputs, outputs)\n",
        "\n",
        "\n",
        "#Compile architecture\n",
        "VGG_EASY.compile(optimizer='adam',\n",
        "              loss='sparse_categorical_crossentropy',\n",
        "              metrics=['accuracy'])\n",
        "\n",
        "VGG_EASY.summary()"
      ],
      "execution_count": null,
      "outputs": [
        {
          "output_type": "stream",
          "text": [
            "Model: \"functional_15\"\n",
            "_________________________________________________________________\n",
            "Layer (type)                 Output Shape              Param #   \n",
            "=================================================================\n",
            "input_9 (InputLayer)         [(None, 32, 32, 3)]       0         \n",
            "_________________________________________________________________\n",
            "sequential_31 (Sequential)   (None, 16, 16, 64)        1792      \n",
            "_________________________________________________________________\n",
            "sequential_32 (Sequential)   (None, 8, 8, 128)         73856     \n",
            "_________________________________________________________________\n",
            "sequential_33 (Sequential)   (None, 4, 4, 256)         885248    \n",
            "_________________________________________________________________\n",
            "sequential_34 (Sequential)   (None, 2, 2, 512)         3539968   \n",
            "_________________________________________________________________\n",
            "flatten_7 (Flatten)          (None, 2048)              0         \n",
            "_________________________________________________________________\n",
            "sequential_35 (Sequential)   (None, 100)               616036    \n",
            "=================================================================\n",
            "Total params: 5,116,900\n",
            "Trainable params: 5,116,900\n",
            "Non-trainable params: 0\n",
            "_________________________________________________________________\n"
          ],
          "name": "stdout"
        }
      ]
    },
    {
      "cell_type": "code",
      "metadata": {
        "id": "zuCDFKbo6qVY"
      },
      "source": [
        "# define callbacks\n",
        "\n",
        "%reload_ext tensorboard\n",
        "log_dir = \"logs/fit/first_case\" + datetime.datetime.now().strftime(\"%Y%m%d-%H%M%S\")\n",
        "tensorboard_callback = tf.keras.callbacks.TensorBoard(log_dir=log_dir, histogram_freq=1)\n",
        "\n",
        "# start train \n",
        "history_VGG_firstcase = VGG_EASY.fit(x=x_train100, \n",
        "          y=y_train100, \n",
        "          epochs=30,\n",
        "          validation_split=0.2, \n",
        "          callbacks=[tensorboard_callback], verbose=1)\n",
        "\n",
        "score = VGG_EASY.evaluate(x_test100, y_test100, verbose=0)\n",
        "print(score[0], ' : loss on cifar100')\n",
        "print(score[1]*100, '% : acc on cifar100')"
      ],
      "execution_count": null,
      "outputs": []
    },
    {
      "cell_type": "code",
      "metadata": {
        "id": "X-5IqSYd6qJI"
      },
      "source": [
        "%tensorboard --logdir logs/fit/first_case"
      ],
      "execution_count": null,
      "outputs": []
    },
    {
      "cell_type": "code",
      "metadata": {
        "id": "peClZuzHBwlW"
      },
      "source": [
        "# export weights\n",
        "\n",
        "VGG_EASY.save_weights('weights/VGG11_cifar100.h5)"
      ],
      "execution_count": null,
      "outputs": []
    },
    {
      "cell_type": "markdown",
      "metadata": {
        "id": "1o3D_e5a7u9U"
      },
      "source": [
        "### Which case???\n",
        "\n",
        "![](https://drive.google.com/uc?export=view&id=1k9_HZH4LhYpbseIvRgQ-1ko6UF4C_hEb)\n",
        "\n"
      ]
    },
    {
      "cell_type": "code",
      "metadata": {
        "id": "B-X3-2SVIcvR",
        "colab": {
          "base_uri": "https://localhost:8080/",
          "height": 399
        },
        "outputId": "88d7e385-00db-4c3f-8a8c-d47935e0ec2c"
      },
      "source": [
        "VGG_EASY.summary()"
      ],
      "execution_count": null,
      "outputs": [
        {
          "output_type": "stream",
          "text": [
            "Model: \"functional_15\"\n",
            "_________________________________________________________________\n",
            "Layer (type)                 Output Shape              Param #   \n",
            "=================================================================\n",
            "input_9 (InputLayer)         [(None, 32, 32, 3)]       0         \n",
            "_________________________________________________________________\n",
            "sequential_31 (Sequential)   (None, 16, 16, 64)        1792      \n",
            "_________________________________________________________________\n",
            "sequential_32 (Sequential)   (None, 8, 8, 128)         73856     \n",
            "_________________________________________________________________\n",
            "sequential_33 (Sequential)   (None, 4, 4, 256)         885248    \n",
            "_________________________________________________________________\n",
            "sequential_34 (Sequential)   (None, 2, 2, 512)         3539968   \n",
            "_________________________________________________________________\n",
            "flatten_7 (Flatten)          (None, 2048)              0         \n",
            "_________________________________________________________________\n",
            "sequential_35 (Sequential)   (None, 100)               616036    \n",
            "=================================================================\n",
            "Total params: 5,116,900\n",
            "Trainable params: 5,116,900\n",
            "Non-trainable params: 0\n",
            "_________________________________________________________________\n"
          ],
          "name": "stdout"
        }
      ]
    },
    {
      "cell_type": "code",
      "metadata": {
        "id": "GEcc4vMeEiH6",
        "colab": {
          "base_uri": "https://localhost:8080/",
          "height": 329
        },
        "outputId": "678b21fe-daf6-409e-d11b-1fd1fe2a8e1c"
      },
      "source": [
        "VGG_EASY_notop = tf.keras.Sequential(VGG_EASY.layers[:-1])\n",
        "VGG_EASY_notop.summary()"
      ],
      "execution_count": null,
      "outputs": [
        {
          "output_type": "stream",
          "text": [
            "Model: \"sequential_37\"\n",
            "_________________________________________________________________\n",
            "Layer (type)                 Output Shape              Param #   \n",
            "=================================================================\n",
            "sequential_31 (Sequential)   (None, 32, 32, 64)        1792      \n",
            "_________________________________________________________________\n",
            "sequential_32 (Sequential)   (None, None, None, 128)   73856     \n",
            "_________________________________________________________________\n",
            "sequential_33 (Sequential)   (None, None, None, 256)   885248    \n",
            "_________________________________________________________________\n",
            "sequential_34 (Sequential)   (None, None, None, 512)   3539968   \n",
            "_________________________________________________________________\n",
            "flatten_7 (Flatten)          multiple                  0         \n",
            "=================================================================\n",
            "Total params: 4,500,864\n",
            "Trainable params: 4,500,864\n",
            "Non-trainable params: 0\n",
            "_________________________________________________________________\n"
          ],
          "name": "stdout"
        }
      ]
    },
    {
      "cell_type": "code",
      "metadata": {
        "id": "nXvdaM-kLapu"
      },
      "source": [
        "def VGG_TOP(n_conv, n_class):\n",
        "  return tf.keras.Sequential([\n",
        "  tf.keras.layers.Dense(n_conv, activation='relu'),\n",
        "  tf.keras.layers.Dense(n_conv, activation='relu'),\n",
        "  tf.keras.layers.Dense(n_class, activation='softmax')                       \n",
        "  ])"
      ],
      "execution_count": null,
      "outputs": []
    },
    {
      "cell_type": "code",
      "metadata": {
        "id": "M74G4r4JJ8wX",
        "colab": {
          "base_uri": "https://localhost:8080/",
          "height": 260
        },
        "outputId": "51b7b1d2-720a-4c10-e637-00db4a9148f4"
      },
      "source": [
        "inputs = tf.keras.Input(shape=(32,32, 3))\n",
        "x = VGG_EASY_notop(inputs, training=False)\n",
        "\n",
        "outputs = VGG_TOP(n_conv=256, n_class=10)(x)\n",
        "\n",
        "VGG_EASY2 = tf.keras.Model(inputs, outputs)\n",
        "\n",
        "VGG_EASY2.summary()"
      ],
      "execution_count": null,
      "outputs": [
        {
          "output_type": "stream",
          "text": [
            "Model: \"functional_19\"\n",
            "_________________________________________________________________\n",
            "Layer (type)                 Output Shape              Param #   \n",
            "=================================================================\n",
            "input_11 (InputLayer)        [(None, 32, 32, 3)]       0         \n",
            "_________________________________________________________________\n",
            "sequential_37 (Sequential)   (None, 8192)              4500864   \n",
            "_________________________________________________________________\n",
            "sequential_38 (Sequential)   (None, 10)                2165770   \n",
            "=================================================================\n",
            "Total params: 6,666,634\n",
            "Trainable params: 2,165,770\n",
            "Non-trainable params: 4,500,864\n",
            "_________________________________________________________________\n"
          ],
          "name": "stdout"
        }
      ]
    },
    {
      "cell_type": "code",
      "metadata": {
        "id": "suZ2gmjOM5RD",
        "colab": {
          "base_uri": "https://localhost:8080/",
          "height": 69
        },
        "outputId": "37342a79-d2b4-439b-d4c6-ad878d2d9d43"
      },
      "source": [
        "VGG_EASY2.layers[]"
      ],
      "execution_count": null,
      "outputs": [
        {
          "output_type": "execute_result",
          "data": {
            "text/plain": [
              "[<tensorflow.python.keras.engine.input_layer.InputLayer at 0x7f087ab48748>,\n",
              " <tensorflow.python.keras.engine.sequential.Sequential at 0x7f087ac72f98>,\n",
              " <tensorflow.python.keras.engine.sequential.Sequential at 0x7f087aad5f28>]"
            ]
          },
          "metadata": {
            "tags": []
          },
          "execution_count": 82
        }
      ]
    },
    {
      "cell_type": "code",
      "metadata": {
        "id": "VVNlv_q4Eecd",
        "colab": {
          "base_uri": "https://localhost:8080/",
          "height": 195
        },
        "outputId": "69d8755e-ed31-4c63-ca96-356660a5da4a"
      },
      "source": [
        "import pandas as pd\n",
        "\n",
        "# Freeze all the layers before the `fine_tune_at` layer\n",
        "VGG_EASY2.layers[2].trainable =  True\n",
        "\n",
        "\n",
        "pd.set_option('max_colwidth', -1)\n",
        "\n",
        "layers = [(layer.name, layer.trainable) for layer in VGG_EASY2.layers]\n",
        "#layers_initial = [(layer.name, layer.trainable) for layer in VGG_EASY_notop.layers]\n",
        "\n",
        "vgg_initial = pd.DataFrame(layers, columns=['Layer Name', 'Layer Trainable'])\n",
        "#vgg_model = pd.DataFrame(layers, columns=['Layer Name', 'Layer Trainable'])\n",
        "\n",
        "#vgg_trainable = pd.concat([vgg_initial, vgg_model[2:]])\n",
        "\n",
        "vgg_initial.head(100)"
      ],
      "execution_count": null,
      "outputs": [
        {
          "output_type": "stream",
          "text": [
            "/usr/local/lib/python3.6/dist-packages/ipykernel_launcher.py:7: FutureWarning: Passing a negative integer is deprecated in version 1.0 and will not be supported in future version. Instead, use None to not limit the column width.\n",
            "  import sys\n"
          ],
          "name": "stderr"
        },
        {
          "output_type": "execute_result",
          "data": {
            "text/html": [
              "<div>\n",
              "<style scoped>\n",
              "    .dataframe tbody tr th:only-of-type {\n",
              "        vertical-align: middle;\n",
              "    }\n",
              "\n",
              "    .dataframe tbody tr th {\n",
              "        vertical-align: top;\n",
              "    }\n",
              "\n",
              "    .dataframe thead th {\n",
              "        text-align: right;\n",
              "    }\n",
              "</style>\n",
              "<table border=\"1\" class=\"dataframe\">\n",
              "  <thead>\n",
              "    <tr style=\"text-align: right;\">\n",
              "      <th></th>\n",
              "      <th>Layer Name</th>\n",
              "      <th>Layer Trainable</th>\n",
              "    </tr>\n",
              "  </thead>\n",
              "  <tbody>\n",
              "    <tr>\n",
              "      <th>0</th>\n",
              "      <td>input_11</td>\n",
              "      <td>False</td>\n",
              "    </tr>\n",
              "    <tr>\n",
              "      <th>1</th>\n",
              "      <td>sequential_37</td>\n",
              "      <td>False</td>\n",
              "    </tr>\n",
              "    <tr>\n",
              "      <th>2</th>\n",
              "      <td>sequential_38</td>\n",
              "      <td>True</td>\n",
              "    </tr>\n",
              "  </tbody>\n",
              "</table>\n",
              "</div>"
            ],
            "text/plain": [
              "      Layer Name  Layer Trainable\n",
              "0  input_11       False          \n",
              "1  sequential_37  False          \n",
              "2  sequential_38  True           "
            ]
          },
          "metadata": {
            "tags": []
          },
          "execution_count": 85
        }
      ]
    }
  ]
}